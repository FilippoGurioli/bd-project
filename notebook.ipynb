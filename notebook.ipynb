{
 "cells": [
  {
   "cell_type": "markdown",
   "id": "fc897058-f991-4ebe-9f6b-d163fdd0ddb2",
   "metadata": {},
   "source": [
    "# Big Data Project Notebook\n",
    "\n",
    "## Dataset\n",
    "\n",
    "Name: NYC Taxi & Limousine Commission (TLC) Trip Record Data\n",
    "Source link: [NYC TLC Trip Record Data](https://www.nyc.gov/site/tlc/about/tlc-trip-record-data.page?utm_source=chatgpt.com)\n",
    "\n",
    "## Main Job\n",
    "\n",
    "**Objective**: Analyze how tip generosity varies by pickup location and time of day, and identify the top pickup zones with the most generous passengers.\n",
    "\n",
    "### Plan\n",
    "\n",
    "#### Setup\n",
    "\n",
    "- clean up and select relevant columns\n",
    "- create derived columns (tip percentage, hour of day)\n",
    "\n",
    "#### Shuffles\n",
    "\n",
    "- join zones id with zone lookup table\n",
    "- aggregate per location and hour\n",
    "- aggregate per average tip percentage\n",
    "- order by average tip percentage\n"
   ]
  },
  {
   "cell_type": "markdown",
   "id": "ef455ac8-7d1f-48ba-bdef-065eb3386cfe",
   "metadata": {},
   "source": [
    "# Setup\n",
    "\n",
    "- Import libraries\n",
    "- Setup Spark\n",
    "- Load dataset in memory"
   ]
  },
  {
   "cell_type": "code",
   "execution_count": 1,
   "id": "a8cce42a-5329-4886-865c-ef8ec554e2a3",
   "metadata": {},
   "outputs": [
    {
     "name": "stderr",
     "output_type": "stream",
     "text": [
      "WARNING: Using incubator modules: jdk.incubator.vector\n",
      "Using Spark's default log4j profile: org/apache/spark/log4j2-defaults.properties\n",
      "25/10/30 18:18:12 WARN Utils: Your hostname, rioly, resolves to a loopback address: 127.0.1.1; using 192.168.1.4 instead (on interface wlan0)\n",
      "25/10/30 18:18:12 WARN Utils: Set SPARK_LOCAL_IP if you need to bind to another address\n",
      "Using Spark's default log4j profile: org/apache/spark/log4j2-defaults.properties\n",
      "Setting default log level to \"WARN\".\n",
      "To adjust logging level use sc.setLogLevel(newLevel). For SparkR, use setLogLevel(newLevel).\n",
      "25/10/30 18:18:13 WARN NativeCodeLoader: Unable to load native-hadoop library for your platform... using builtin-java classes where applicable\n",
      "                                                                                "
     ]
    },
    {
     "name": "stdout",
     "output_type": "stream",
     "text": [
      "+---+\n",
      "| id|\n",
      "+---+\n",
      "|  0|\n",
      "|  1|\n",
      "|  2|\n",
      "|  3|\n",
      "|  4|\n",
      "+---+\n",
      "\n",
      "+--------+--------------------+---------------------+---------------+-------------+----------+------------------+------------+------------+------------+-----------+-----+-------+----------+------------+---------------------+------------+--------------------+-----------+------------------+\n",
      "|VendorID|tpep_pickup_datetime|tpep_dropoff_datetime|passenger_count|trip_distance|RatecodeID|store_and_fwd_flag|PULocationID|DOLocationID|payment_type|fare_amount|extra|mta_tax|tip_amount|tolls_amount|improvement_surcharge|total_amount|congestion_surcharge|Airport_fee|cbd_congestion_fee|\n",
      "+--------+--------------------+---------------------+---------------+-------------+----------+------------------+------------+------------+------------+-----------+-----+-------+----------+------------+---------------------+------------+--------------------+-----------+------------------+\n",
      "|       1| 2025-01-01 00:18:38|  2025-01-01 00:26:59|              1|          1.6|         1|                 N|         229|         237|           1|       10.0|  3.5|    0.5|       3.0|         0.0|                  1.0|        18.0|                 2.5|        0.0|               0.0|\n",
      "|       1| 2025-01-01 00:32:40|  2025-01-01 00:35:13|              1|          0.5|         1|                 N|         236|         237|           1|        5.1|  3.5|    0.5|      2.02|         0.0|                  1.0|       12.12|                 2.5|        0.0|               0.0|\n",
      "|       1| 2025-01-01 00:44:04|  2025-01-01 00:46:01|              1|          0.6|         1|                 N|         141|         141|           1|        5.1|  3.5|    0.5|       2.0|         0.0|                  1.0|        12.1|                 2.5|        0.0|               0.0|\n",
      "|       2| 2025-01-01 00:14:27|  2025-01-01 00:20:01|              3|         0.52|         1|                 N|         244|         244|           2|        7.2|  1.0|    0.5|       0.0|         0.0|                  1.0|         9.7|                 0.0|        0.0|               0.0|\n",
      "|       2| 2025-01-01 00:21:34|  2025-01-01 00:25:06|              3|         0.66|         1|                 N|         244|         116|           2|        5.8|  1.0|    0.5|       0.0|         0.0|                  1.0|         8.3|                 0.0|        0.0|               0.0|\n",
      "+--------+--------------------+---------------------+---------------+-------------+----------+------------------+------------+------------+------------+-----------+-----+-------+----------+------------+---------------------+------------+--------------------+-----------+------------------+\n",
      "only showing top 5 rows\n",
      "root\n",
      " |-- VendorID: integer (nullable = true)\n",
      " |-- tpep_pickup_datetime: timestamp_ntz (nullable = true)\n",
      " |-- tpep_dropoff_datetime: timestamp_ntz (nullable = true)\n",
      " |-- passenger_count: long (nullable = true)\n",
      " |-- trip_distance: double (nullable = true)\n",
      " |-- RatecodeID: long (nullable = true)\n",
      " |-- store_and_fwd_flag: string (nullable = true)\n",
      " |-- PULocationID: integer (nullable = true)\n",
      " |-- DOLocationID: integer (nullable = true)\n",
      " |-- payment_type: long (nullable = true)\n",
      " |-- fare_amount: double (nullable = true)\n",
      " |-- extra: double (nullable = true)\n",
      " |-- mta_tax: double (nullable = true)\n",
      " |-- tip_amount: double (nullable = true)\n",
      " |-- tolls_amount: double (nullable = true)\n",
      " |-- improvement_surcharge: double (nullable = true)\n",
      " |-- total_amount: double (nullable = true)\n",
      " |-- congestion_surcharge: double (nullable = true)\n",
      " |-- Airport_fee: double (nullable = true)\n",
      " |-- cbd_congestion_fee: double (nullable = true)\n",
      "\n",
      "+----------+-------------+--------------------+------------+\n",
      "|LocationID|      Borough|                Zone|service_zone|\n",
      "+----------+-------------+--------------------+------------+\n",
      "|         1|          EWR|      Newark Airport|         EWR|\n",
      "|         2|       Queens|         Jamaica Bay|   Boro Zone|\n",
      "|         3|        Bronx|Allerton/Pelham G...|   Boro Zone|\n",
      "|         4|    Manhattan|       Alphabet City| Yellow Zone|\n",
      "|         5|Staten Island|       Arden Heights|   Boro Zone|\n",
      "+----------+-------------+--------------------+------------+\n",
      "only showing top 5 rows\n",
      "root\n",
      " |-- LocationID: integer (nullable = true)\n",
      " |-- Borough: string (nullable = true)\n",
      " |-- Zone: string (nullable = true)\n",
      " |-- service_zone: string (nullable = true)\n",
      "\n"
     ]
    }
   ],
   "source": [
    "# Import libraries\n",
    "import findspark\n",
    "from pyspark.sql import SparkSession\n",
    "\n",
    "# Setup Spark\n",
    "findspark.init()\n",
    "spark = SparkSession.builder \\\n",
    "    .appName(\"NYC Taxi Analysis - Sample\") \\\n",
    "    .getOrCreate()\n",
    "## health check\n",
    "df = spark.range(5)\n",
    "df.show()\n",
    "\n",
    "# Load sample data\n",
    "trip_file = \"sample_data/yellow_tripdata_2025-01.parquet\"\n",
    "df_trips = spark.read.parquet(trip_file)\n",
    "## health check\n",
    "df_trips.show(5)\n",
    "df_trips.printSchema()\n",
    "# Load zone lookup table\n",
    "zone_file = \"sample_data/taxi_zone_lookup.csv\"\n",
    "df_zones = spark.read.csv(zone_file, header=True, inferSchema=True)\n",
    "## health check\n",
    "df_zones.show(5)\n",
    "df_zones.printSchema()"
   ]
  },
  {
   "cell_type": "markdown",
   "id": "e901de04-2c82-42ef-947f-126e4cf3cac0",
   "metadata": {},
   "source": [
    "# Main Job\n",
    "\n",
    "## Join Trip Data with Zone Lookup Table"
   ]
  },
  {
   "cell_type": "code",
   "execution_count": 2,
   "id": "34d605c7-4633-4eea-9757-76565fdd7455",
   "metadata": {},
   "outputs": [
    {
     "name": "stdout",
     "output_type": "stream",
     "text": [
      "+------------+---------+--------------------+--------------------+-------------+-----------+----------+------------+------------+\n",
      "|PULocationID|  Borough|                Zone|tpep_pickup_datetime|trip_distance|fare_amount|tip_amount|total_amount|payment_type|\n",
      "+------------+---------+--------------------+--------------------+-------------+-----------+----------+------------+------------+\n",
      "|         229|Manhattan|Sutton Place/Turt...| 2025-01-01 00:18:38|          1.6|       10.0|       3.0|        18.0|           1|\n",
      "|         236|Manhattan|Upper East Side N...| 2025-01-01 00:32:40|          0.5|        5.1|      2.02|       12.12|           1|\n",
      "|         141|Manhattan|     Lenox Hill West| 2025-01-01 00:44:04|          0.6|        5.1|       2.0|        12.1|           1|\n",
      "|         244|Manhattan|Washington Height...| 2025-01-01 00:14:27|         0.52|        7.2|       0.0|         9.7|           2|\n",
      "|         244|Manhattan|Washington Height...| 2025-01-01 00:21:34|         0.66|        5.8|       0.0|         8.3|           2|\n",
      "+------------+---------+--------------------+--------------------+-------------+-----------+----------+------------+------------+\n",
      "only showing top 5 rows\n",
      "Joined dataset count: 3475226\n"
     ]
    }
   ],
   "source": [
    "from pyspark.sql.functions import col\n",
    "\n",
    "df_joined = df_trips.join(\n",
    "    df_zones,\n",
    "    df_trips.PULocationID == df_zones.LocationID,\n",
    "    \"left\"\n",
    ")\n",
    "\n",
    "# Select relevant columns only\n",
    "df_joined = df_joined.select(\n",
    "    \"PULocationID\",\n",
    "    \"Borough\",\n",
    "    \"Zone\",\n",
    "    \"tpep_pickup_datetime\",\n",
    "    \"trip_distance\",\n",
    "    \"fare_amount\",\n",
    "    \"tip_amount\",\n",
    "    \"total_amount\",\n",
    "    \"payment_type\"\n",
    ")\n",
    "\n",
    "# Health check\n",
    "df_joined.show(5)\n",
    "print(\"Joined dataset count:\", df_joined.count())\n"
   ]
  },
  {
   "cell_type": "markdown",
   "id": "eec394b8-4412-4b91-9196-3d398fe78dca",
   "metadata": {},
   "source": [
    "## Compute derived columns"
   ]
  },
  {
   "cell_type": "code",
   "execution_count": 3,
   "id": "29f43e05-696d-4e41-a63e-6950ee220d8f",
   "metadata": {},
   "outputs": [
    {
     "name": "stdout",
     "output_type": "stream",
     "text": [
      "+------------+---------+--------------------+-----------+--------------+\n",
      "|PULocationID|  Borough|                Zone|hour_of_day|tip_percentage|\n",
      "+------------+---------+--------------------+-----------+--------------+\n",
      "|         229|Manhattan|Sutton Place/Turt...|          0|          30.0|\n",
      "|         236|Manhattan|Upper East Side N...|          0|         39.61|\n",
      "|         141|Manhattan|     Lenox Hill West|          0|         39.22|\n",
      "|         244|Manhattan|Washington Height...|          0|           0.0|\n",
      "|         244|Manhattan|Washington Height...|          0|           0.0|\n",
      "+------------+---------+--------------------+-----------+--------------+\n",
      "only showing top 5 rows\n"
     ]
    }
   ],
   "source": [
    "from pyspark.sql.functions import col, hour, round\n",
    "\n",
    "# Filter out trips with zero fare to avoid division by zero\n",
    "df_cleaned = df_joined.filter(col(\"fare_amount\") > 0)\n",
    "\n",
    "df_enriched = df_cleaned.withColumn(\n",
    "    \"tip_percentage\", round(col(\"tip_amount\") / col(\"fare_amount\") * 100, 2)\n",
    ").withColumn(\n",
    "    \"hour_of_day\", hour(col(\"tpep_pickup_datetime\"))\n",
    ")\n",
    "\n",
    "# Health check\n",
    "df_enriched.select(\"PULocationID\", \"Borough\", \"Zone\", \"hour_of_day\", \"tip_percentage\").show(5)\n"
   ]
  },
  {
   "cell_type": "markdown",
   "id": "c49f841a-e74a-4ac4-b4e7-9009fe1df270",
   "metadata": {},
   "source": [
    "## Aggregate by Pickup Zone and Hour"
   ]
  },
  {
   "cell_type": "code",
   "execution_count": 4,
   "id": "bf720eb5-758f-4039-a56d-37f80d9ca8a3",
   "metadata": {},
   "outputs": [
    {
     "name": "stderr",
     "output_type": "stream",
     "text": [
      "[Stage 18:============================================>           (12 + 3) / 15]"
     ]
    },
    {
     "name": "stdout",
     "output_type": "stream",
     "text": [
      "+------------+---------+--------------------+-----------+-----------+---------+\n",
      "|PULocationID|  Borough|                Zone|hour_of_day|avg_tip_pct|num_trips|\n",
      "+------------+---------+--------------------+-----------+-----------+---------+\n",
      "|         229|Manhattan|Sutton Place/Turt...|          1|      20.45|      669|\n",
      "|         265|      N/A|      Outside of NYC|          1|      29.67|       55|\n",
      "|         152|Manhattan|      Manhattanville|          0|       4.78|       51|\n",
      "|         211|Manhattan|                SoHo|          2|      16.76|      773|\n",
      "|         256| Brooklyn|Williamsburg (Sou...|         18|       4.91|      111|\n",
      "|         243|Manhattan|Washington Height...|         22|        2.2|       50|\n",
      "|          51|    Bronx|          Co-Op City|         15|        0.0|       14|\n",
      "|         243|Manhattan|Washington Height...|         16|       3.92|       39|\n",
      "|          53|   Queens|       College Point|         20|        0.0|        8|\n",
      "|         159|    Bronx|       Melrose South|         22|      11.21|       21|\n",
      "+------------+---------+--------------------+-----------+-----------+---------+\n",
      "only showing top 10 rows\n"
     ]
    },
    {
     "name": "stderr",
     "output_type": "stream",
     "text": [
      "                                                                                "
     ]
    }
   ],
   "source": [
    "from pyspark.sql.functions import avg, count\n",
    "\n",
    "df_agg_hour = df_enriched.groupBy(\n",
    "    \"PULocationID\", \"Borough\", \"Zone\", \"hour_of_day\"\n",
    ").agg(\n",
    "    round(avg(\"tip_percentage\"), 2).alias(\"avg_tip_pct\"),\n",
    "    count(\"*\").alias(\"num_trips\")\n",
    ")\n",
    "\n",
    "# Health check\n",
    "df_agg_hour.show(10)\n"
   ]
  },
  {
   "cell_type": "markdown",
   "id": "ac161cee-ef75-44ee-a41e-3702d0b8fb8a",
   "metadata": {},
   "source": [
    "## Aggregate Across Hours per Pickup Zone"
   ]
  },
  {
   "cell_type": "code",
   "execution_count": 9,
   "id": "4776f51d-008d-47da-87ec-e96e925c0c78",
   "metadata": {},
   "outputs": [
    {
     "name": "stderr",
     "output_type": "stream",
     "text": [
      "[Stage 24:====================================================>   (14 + 1) / 15]"
     ]
    },
    {
     "name": "stdout",
     "output_type": "stream",
     "text": [
      "+------------+---------+--------------------+-------------------+-----------+\n",
      "|PULocationID|  Borough|                Zone|avg_tip_pct_overall|total_trips|\n",
      "+------------+---------+--------------------+-------------------+-----------+\n",
      "|         136|    Bronx| Kingsbridge Heights|               0.84|        273|\n",
      "|         219|   Queens|Springfield Garde...|               6.47|        693|\n",
      "|          92|   Queens|            Flushing|               0.92|        531|\n",
      "|          53|   Queens|       College Point|               3.67|        189|\n",
      "|          94|    Bronx|       Fordham South|                0.0|        157|\n",
      "|         123| Brooklyn|           Homecrest|               1.65|        366|\n",
      "|          33| Brooklyn|    Brooklyn Heights|               8.58|       2315|\n",
      "|         158|Manhattan|Meatpacking/West ...|              17.73|      31669|\n",
      "|         146|   Queens|Long Island City/...|               7.69|       1738|\n",
      "|         240|    Bronx|  Van Cortlandt Park|               0.32|         34|\n",
      "+------------+---------+--------------------+-------------------+-----------+\n",
      "only showing top 10 rows\n"
     ]
    },
    {
     "name": "stderr",
     "output_type": "stream",
     "text": [
      "                                                                                "
     ]
    }
   ],
   "source": [
    "from pyspark.sql.functions import avg, round, desc, sum as spark_sum\n",
    "\n",
    "df_agg_zone = df_agg_hour.groupBy(\n",
    "    \"PULocationID\", \"Borough\", \"Zone\"\n",
    ").agg(\n",
    "    round(avg(\"avg_tip_pct\"), 2).alias(\"avg_tip_pct_overall\"),\n",
    "    spark_sum(\"num_trips\").alias(\"total_trips\")\n",
    ")\n",
    "\n",
    "# Health check\n",
    "df_agg_zone.show(10)"
   ]
  },
  {
   "cell_type": "markdown",
   "id": "a33b8229-1d9a-418c-9a59-1ee31f53dfe3",
   "metadata": {},
   "source": [
    "## Order by average tip percentage"
   ]
  },
  {
   "cell_type": "code",
   "execution_count": 10,
   "id": "16c0d95d-f117-47fa-8a46-7bae68810d8c",
   "metadata": {},
   "outputs": [
    {
     "name": "stderr",
     "output_type": "stream",
     "text": [
      "[Stage 31:============================================>           (12 + 3) / 15]"
     ]
    },
    {
     "name": "stdout",
     "output_type": "stream",
     "text": [
      "+------------+-------------+--------------------+-------------------+-----------+\n",
      "|PULocationID|      Borough|                Zone|avg_tip_pct_overall|total_trips|\n",
      "+------------+-------------+--------------------+-------------------+-----------+\n",
      "|         265|          N/A|      Outside of NYC|             387.06|       1285|\n",
      "|          29|     Brooklyn|      Brighton Beach|             204.43|        250|\n",
      "|          23|Staten Island|Bloomfield/Emerso...|             126.67|         12|\n",
      "|          22|     Brooklyn|    Bensonhurst West|              55.97|        317|\n",
      "|           1|          EWR|      Newark Airport|              34.32|        366|\n",
      "|         199|        Bronx|       Rikers Island|              25.05|          1|\n",
      "|         264|      Unknown|                 N/A|               23.2|       8040|\n",
      "|         162|    Manhattan|        Midtown East|              22.95|     114449|\n",
      "|         107|    Manhattan|            Gramercy|              22.34|      65806|\n",
      "|         142|    Manhattan| Lincoln Square East|              22.32|     107316|\n",
      "+------------+-------------+--------------------+-------------------+-----------+\n",
      "only showing top 10 rows\n"
     ]
    },
    {
     "name": "stderr",
     "output_type": "stream",
     "text": [
      "                                                                                "
     ]
    }
   ],
   "source": [
    "df_top_zones = df_agg_zone.orderBy(desc(\"avg_tip_pct_overall\"))\n",
    "\n",
    "# Show top 10 tipping zones\n",
    "df_top_zones.show(10)"
   ]
  },
  {
   "cell_type": "markdown",
   "id": "b9e92fa2-15ad-4f5f-80f8-c4b106f6fc93",
   "metadata": {},
   "source": [
    "---\n",
    "\n",
    "# Optimized Job\n",
    "\n",
    "## Setup"
   ]
  },
  {
   "cell_type": "code",
   "execution_count": 11,
   "id": "dce953d7-002f-4eee-aa27-d15f3b4fa3f1",
   "metadata": {},
   "outputs": [
    {
     "name": "stdout",
     "output_type": "stream",
     "text": [
      "+---+\n",
      "| id|\n",
      "+---+\n",
      "|  0|\n",
      "|  1|\n",
      "|  2|\n",
      "|  3|\n",
      "|  4|\n",
      "+---+\n",
      "\n"
     ]
    },
    {
     "name": "stderr",
     "output_type": "stream",
     "text": [
      "25/10/30 17:54:59 WARN SparkSession: Using an existing Spark session; only runtime SQL configurations will take effect.\n"
     ]
    }
   ],
   "source": [
    "# Imports\n",
    "import findspark\n",
    "from pyspark.sql import SparkSession\n",
    "\n",
    "# Initialize Spark\n",
    "findspark.init()\n",
    "\n",
    "spark = (\n",
    "    SparkSession.builder\n",
    "    .appName(\"NYC Taxi Analysis - Optimized\")\n",
    "    .master(\"local[*]\")  # use all available cores\n",
    "    .config(\"spark.sql.shuffle.partitions\", 100)\n",
    "    .config(\"spark.sql.adaptive.enabled\", \"true\")\n",
    "    .config(\"spark.sql.adaptive.coalescePartitions.enabled\", \"true\")\n",
    "    .getOrCreate()\n",
    ")\n",
    "\n",
    "spark.sparkContext.setLogLevel(\"WARN\")\n",
    "\n",
    "# Health check\n",
    "df_test = spark.range(5)\n",
    "df_test.show()\n"
   ]
  },
  {
   "cell_type": "markdown",
   "id": "4e0a82a6-d56d-47c3-b5ac-385756504b85",
   "metadata": {},
   "source": [
    "## Load dataset"
   ]
  },
  {
   "cell_type": "code",
   "execution_count": 13,
   "id": "c265f7e6-7e9b-44df-976e-8af8411b814a",
   "metadata": {},
   "outputs": [
    {
     "name": "stderr",
     "output_type": "stream",
     "text": [
      "25/10/30 17:57:50 WARN CacheManager: Asked to cache already cached data.\n"
     ]
    },
    {
     "name": "stdout",
     "output_type": "stream",
     "text": [
      "+------------+--------------------+-----------+----------+\n",
      "|PULocationID|tpep_pickup_datetime|fare_amount|tip_amount|\n",
      "+------------+--------------------+-----------+----------+\n",
      "|         229| 2025-01-01 00:18:38|       10.0|       3.0|\n",
      "|         236| 2025-01-01 00:32:40|        5.1|      2.02|\n",
      "|         141| 2025-01-01 00:44:04|        5.1|       2.0|\n",
      "|         244| 2025-01-01 00:14:27|        7.2|       0.0|\n",
      "|         244| 2025-01-01 00:21:34|        5.8|       0.0|\n",
      "+------------+--------------------+-----------+----------+\n",
      "only showing top 5 rows\n",
      "root\n",
      " |-- PULocationID: integer (nullable = true)\n",
      " |-- tpep_pickup_datetime: timestamp_ntz (nullable = true)\n",
      " |-- fare_amount: double (nullable = true)\n",
      " |-- tip_amount: double (nullable = true)\n",
      "\n",
      "+----------+-------------+--------------------+\n",
      "|LocationID|      Borough|                Zone|\n",
      "+----------+-------------+--------------------+\n",
      "|         1|          EWR|      Newark Airport|\n",
      "|         2|       Queens|         Jamaica Bay|\n",
      "|         3|        Bronx|Allerton/Pelham G...|\n",
      "|         4|    Manhattan|       Alphabet City|\n",
      "|         5|Staten Island|       Arden Heights|\n",
      "+----------+-------------+--------------------+\n",
      "only showing top 5 rows\n",
      "root\n",
      " |-- LocationID: integer (nullable = true)\n",
      " |-- Borough: string (nullable = true)\n",
      " |-- Zone: string (nullable = true)\n",
      "\n"
     ]
    },
    {
     "name": "stderr",
     "output_type": "stream",
     "text": [
      "25/10/30 17:57:50 WARN CacheManager: Asked to cache already cached data.\n"
     ]
    }
   ],
   "source": [
    "from pyspark.sql.types import StructType, StructField, IntegerType, StringType\n",
    "\n",
    "trip_file = \"sample_data/yellow_tripdata_2025-01.parquet\"\n",
    "zone_file = \"sample_data/taxi_zone_lookup.csv\"\n",
    "\n",
    "# Load trip data\n",
    "df_trips = (\n",
    "    spark.read.parquet(trip_file)\n",
    "    .select(\n",
    "        \"PULocationID\",           # key for aggregation\n",
    "        \"tpep_pickup_datetime\",   # to extract hour\n",
    "        \"fare_amount\",            # for tip percentage\n",
    "        \"tip_amount\"              # needed\n",
    "    )\n",
    ")\n",
    "\n",
    "# Cache for reuse\n",
    "df_trips.cache()\n",
    "df_trips.count()\n",
    "\n",
    "# Health check\n",
    "df_trips.show(5)\n",
    "df_trips.printSchema()\n",
    "\n",
    "# Load zone lookup table\n",
    "zone_schema = StructType([\n",
    "    StructField(\"LocationID\", IntegerType(), True),\n",
    "    StructField(\"Borough\", StringType(), True),\n",
    "    StructField(\"Zone\", StringType(), True),\n",
    "    StructField(\"service_zone\", StringType(), True)\n",
    "])\n",
    "\n",
    "df_zones = (\n",
    "    spark.read.csv(zone_file, header=True, schema=zone_schema)\n",
    "    .select(\"LocationID\", \"Borough\", \"Zone\")\n",
    ")\n",
    "\n",
    "df_zones.cache()\n",
    "df_zones.count()\n",
    "\n",
    "# Health check\n",
    "df_zones.show(5)\n",
    "df_zones.printSchema()\n"
   ]
  },
  {
   "cell_type": "markdown",
   "id": "496bdd28-74ba-40de-bb23-1286c31240a4",
   "metadata": {},
   "source": [
    "## Join Tables"
   ]
  },
  {
   "cell_type": "code",
   "execution_count": 14,
   "id": "95c50551-1f07-4b4a-8b2a-215d5c8b3ee0",
   "metadata": {},
   "outputs": [
    {
     "name": "stderr",
     "output_type": "stream",
     "text": [
      "                                                                                "
     ]
    },
    {
     "name": "stdout",
     "output_type": "stream",
     "text": [
      "+------------+---------+--------------------+--------------------+-----------+----------+\n",
      "|PULocationID|  Borough|                Zone|tpep_pickup_datetime|fare_amount|tip_amount|\n",
      "+------------+---------+--------------------+--------------------+-----------+----------+\n",
      "|         229|Manhattan|Sutton Place/Turt...| 2025-01-01 00:18:38|       10.0|       3.0|\n",
      "|         236|Manhattan|Upper East Side N...| 2025-01-01 00:32:40|        5.1|      2.02|\n",
      "|         141|Manhattan|     Lenox Hill West| 2025-01-01 00:44:04|        5.1|       2.0|\n",
      "|         244|Manhattan|Washington Height...| 2025-01-01 00:14:27|        7.2|       0.0|\n",
      "|         244|Manhattan|Washington Height...| 2025-01-01 00:21:34|        5.8|       0.0|\n",
      "+------------+---------+--------------------+--------------------+-----------+----------+\n",
      "only showing top 5 rows\n"
     ]
    }
   ],
   "source": [
    "from pyspark.sql.functions import broadcast\n",
    "\n",
    "# broadcast the small zone lookup table\n",
    "df_enriched = df_trips.join(\n",
    "    broadcast(df_zones),\n",
    "    df_trips.PULocationID == df_zones.LocationID,\n",
    "    \"left\"\n",
    ").select(\n",
    "    \"PULocationID\",\n",
    "    \"Borough\",\n",
    "    \"Zone\",\n",
    "    \"tpep_pickup_datetime\",\n",
    "    \"fare_amount\",\n",
    "    \"tip_amount\"\n",
    ")\n",
    "\n",
    "# Cache the joined dataset for reuse\n",
    "df_enriched.cache()\n",
    "df_enriched.count()\n",
    "\n",
    "# Health check\n",
    "df_enriched.show(5)\n"
   ]
  },
  {
   "cell_type": "markdown",
   "id": "39aa8cfe-4bc8-4141-96f7-00940d22d661",
   "metadata": {},
   "source": [
    "## Aggregate by Pickup Zone and Hour"
   ]
  },
  {
   "cell_type": "code",
   "execution_count": 15,
   "id": "518b674e-9107-4c32-be1d-384b584c876e",
   "metadata": {},
   "outputs": [
    {
     "name": "stderr",
     "output_type": "stream",
     "text": [
      "[Stage 71:============================================>           (12 + 3) / 15]"
     ]
    },
    {
     "name": "stdout",
     "output_type": "stream",
     "text": [
      "+------------+---------+--------------------+-----------+-----------+---------+\n",
      "|PULocationID|  Borough|                Zone|hour_of_day|avg_tip_pct|num_trips|\n",
      "+------------+---------+--------------------+-----------+-----------+---------+\n",
      "|           7|   Queens|             Astoria|          0|       5.94|      100|\n",
      "|         229|Manhattan|Sutton Place/Turt...|          1|      20.45|      669|\n",
      "|         265|      N/A|      Outside of NYC|          1|      29.67|       55|\n",
      "|         152|Manhattan|      Manhattanville|          0|       4.78|       51|\n",
      "|         211|Manhattan|                SoHo|          2|      16.76|      773|\n",
      "|          82|   Queens|            Elmhurst|          3|       1.81|       43|\n",
      "|          90|Manhattan|            Flatiron|          4|      16.79|      450|\n",
      "|         162|Manhattan|        Midtown East|          8|      23.42|     4453|\n",
      "|         193|   Queens|Queensbridge/Rave...|          9|       3.61|       97|\n",
      "|         249|Manhattan|        West Village|          9|       22.3|     1972|\n",
      "+------------+---------+--------------------+-----------+-----------+---------+\n",
      "only showing top 10 rows\n"
     ]
    },
    {
     "name": "stderr",
     "output_type": "stream",
     "text": [
      "                                                                                "
     ]
    }
   ],
   "source": [
    "from pyspark.sql.functions import col, hour, round, avg, count, desc, sum as spark_sum\n",
    "\n",
    "# Derived columns\n",
    "df_derived = df_enriched.filter(col(\"fare_amount\") > 0).withColumn(\n",
    "    \"tip_percentage\", round(col(\"tip_amount\") / col(\"fare_amount\") * 100, 2)\n",
    ").withColumn(\n",
    "    \"hour_of_day\", hour(col(\"tpep_pickup_datetime\"))\n",
    ")\n",
    "\n",
    "# Cache derived dataset for reuse\n",
    "df_derived.cache()\n",
    "df_derived.count()\n",
    "\n",
    "# Aggregate by pickup zone and hour\n",
    "df_agg_hour = df_derived.groupBy(\n",
    "    \"PULocationID\", \"Borough\", \"Zone\", \"hour_of_day\"\n",
    ").agg(\n",
    "    round(avg(\"tip_percentage\"), 2).alias(\"avg_tip_pct\"),\n",
    "    count(\"*\").alias(\"num_trips\")\n",
    ")\n",
    "\n",
    "df_agg_hour.cache()\n",
    "df_agg_hour.show(10)"
   ]
  },
  {
   "cell_type": "markdown",
   "id": "0488d632-ec21-4c7f-98e5-5045c7944dc1",
   "metadata": {},
   "source": [
    "## Aggregate Across Hours"
   ]
  },
  {
   "cell_type": "code",
   "execution_count": 16,
   "id": "6a5cc1e4-71ad-40b0-ad23-34175d9c9a08",
   "metadata": {},
   "outputs": [
    {
     "name": "stderr",
     "output_type": "stream",
     "text": [
      "[Stage 77:================================================>       (13 + 2) / 15]"
     ]
    },
    {
     "name": "stdout",
     "output_type": "stream",
     "text": [
      "+------------+-------------+--------------------+-------------------+-----------+\n",
      "|PULocationID|      Borough|                Zone|avg_tip_pct_overall|total_trips|\n",
      "+------------+-------------+--------------------+-------------------+-----------+\n",
      "|         265|          N/A|      Outside of NYC|             387.06|       1285|\n",
      "|          29|     Brooklyn|      Brighton Beach|             204.43|        250|\n",
      "|          23|Staten Island|Bloomfield/Emerso...|             126.67|         12|\n",
      "|          22|     Brooklyn|    Bensonhurst West|              55.97|        317|\n",
      "|           1|          EWR|      Newark Airport|              34.32|        366|\n",
      "|         199|        Bronx|       Rikers Island|              25.05|          1|\n",
      "|         264|      Unknown|                 N/A|               23.2|       8040|\n",
      "|         162|    Manhattan|        Midtown East|              22.95|     114449|\n",
      "|         107|    Manhattan|            Gramercy|              22.34|      65806|\n",
      "|         142|    Manhattan| Lincoln Square East|              22.32|     107316|\n",
      "+------------+-------------+--------------------+-------------------+-----------+\n",
      "only showing top 10 rows\n"
     ]
    },
    {
     "name": "stderr",
     "output_type": "stream",
     "text": [
      "                                                                                "
     ]
    }
   ],
   "source": [
    "# Aggregate overall per pickup zone and order (second shuffle) ---\n",
    "df_agg_zone = df_agg_hour.groupBy(\n",
    "    \"PULocationID\", \"Borough\", \"Zone\"\n",
    ").agg(\n",
    "    round(avg(\"avg_tip_pct\"), 2).alias(\"avg_tip_pct_overall\"),\n",
    "    spark_sum(\"num_trips\").alias(\"total_trips\")\n",
    ")\n",
    "\n",
    "# Show top 10 tipping zones\n",
    "df_top_zones.show(10)"
   ]
  },
  {
   "cell_type": "code",
   "execution_count": null,
   "id": "90ad052e-1440-4c57-9c1c-ab8d3045152e",
   "metadata": {},
   "outputs": [],
   "source": []
  }
 ],
 "metadata": {
  "kernelspec": {
   "display_name": "Python 3 (ipykernel)",
   "language": "python",
   "name": "python3"
  },
  "language_info": {
   "codemirror_mode": {
    "name": "ipython",
    "version": 3
   },
   "file_extension": ".py",
   "mimetype": "text/x-python",
   "name": "python",
   "nbconvert_exporter": "python",
   "pygments_lexer": "ipython3",
   "version": "3.13.7"
  }
 },
 "nbformat": 4,
 "nbformat_minor": 5
}
