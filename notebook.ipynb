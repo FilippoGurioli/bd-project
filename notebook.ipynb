{
 "cells": [
  {
   "cell_type": "markdown",
   "id": "fc897058-f991-4ebe-9f6b-d163fdd0ddb2",
   "metadata": {},
   "source": [
    "# Big Data Project Notebook\n",
    "\n",
    "## Dataset\n",
    "\n",
    "Name: NYC Taxi & Limousine Commission (TLC) Trip Record Data\n",
    "Source link: [NYC TLC Trip Record Data](https://www.nyc.gov/site/tlc/about/tlc-trip-record-data.page?utm_source=chatgpt.com)\n",
    "\n",
    "## Main Job\n",
    "\n",
    "**Objective**: Analyze how tip generosity varies by pickup location and time of day, and identify the top pickup zones with the most generous passengers.\n",
    "\n",
    "### Plan\n",
    "\n",
    "#### Setup\n",
    "\n",
    "- clean up and select relevant columns\n",
    "- create derived columns (tip percentage, hour of day)\n",
    "\n",
    "#### Shuffles\n",
    "\n",
    "- join zones id with zone lookup table\n",
    "- aggregate per location and hour\n",
    "- aggregate per average tip percentage\n",
    "- order by average tip percentage\n"
   ]
  },
  {
   "cell_type": "code",
   "execution_count": null,
   "id": "a58dd124-f0d7-4bcc-a76e-099a3e268365",
   "metadata": {},
   "outputs": [],
   "source": []
  }
 ],
 "metadata": {
  "kernelspec": {
   "display_name": "Python 3 (ipykernel)",
   "language": "python",
   "name": "python3"
  },
  "language_info": {
   "codemirror_mode": {
    "name": "ipython",
    "version": 3
   },
   "file_extension": ".py",
   "mimetype": "text/x-python",
   "name": "python",
   "nbconvert_exporter": "python",
   "pygments_lexer": "ipython3",
   "version": "3.13.7"
  }
 },
 "nbformat": 4,
 "nbformat_minor": 5
}
